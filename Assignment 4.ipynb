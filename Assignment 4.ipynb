{
 "cells": [
  {
   "cell_type": "markdown",
   "metadata": {},
   "source": [
    "# 1.1 Calculating area of a triangle"
   ]
  },
  {
   "cell_type": "code",
   "execution_count": 1,
   "metadata": {},
   "outputs": [
    {
     "name": "stdout",
     "output_type": "stream",
     "text": [
      "Input sides of a triangle :\n",
      "5\n",
      "7\n",
      "9\n",
      "area =17.41228014936585\n"
     ]
    }
   ],
   "source": [
    "class parent:\n",
    "    def inputsides(self):\n",
    "        print('Input sides of a triangle :')\n",
    "        self.side1 = int(input())\n",
    "        self.side2 = int(input())\n",
    "        self.side3 = int(input())\n",
    "        \n",
    "class child(parent):\n",
    "    def area(self):\n",
    "        p=(self.side1+self.side2+self.side3)/2\n",
    "        area = (p*(p-self.side1)*(p-self.side2)*(p-self.side3))**0.5\n",
    "        print('area =' + str(area))\n",
    "        \n",
    "obj = child()\n",
    "obj.inputsides()\n",
    "obj.area()"
   ]
  },
  {
   "cell_type": "markdown",
   "metadata": {},
   "source": [
    "# 1.2 Function that takes a list of words and an integer n and returns the list of words that are no longer than n"
   ]
  },
  {
   "cell_type": "code",
   "execution_count": 2,
   "metadata": {},
   "outputs": [
    {
     "name": "stdout",
     "output_type": "stream",
     "text": [
      "Machine Learning 16\n",
      "Deep Learning 13\n",
      "NLP 3\n",
      "Artificial Intelligence 23\n",
      "computer vision 15\n",
      "Neural Networks 15\n",
      "Words of length less than or equal to 15\n",
      "['Deep Learning', 'NLP', 'computer vision', 'Neural Networks']\n"
     ]
    }
   ],
   "source": [
    "def filter_long_words(wordlist, n):\n",
    "    newwordlist = []\n",
    "    j = 0\n",
    "    for i in wordlist:\n",
    "        print(i +' ' +str(len(i)))\n",
    "        if (len(i) <= n):\n",
    "            newwordlist.append(i)\n",
    "            j+=1\n",
    "    print('Words of length less than or equal to ' + str(n) )\n",
    "    print(str(newwordlist))\n",
    "    \n",
    "wordlist = ['Machine Learning','Deep Learning','NLP','Artificial Intelligence','computer vision','Neural Networks']\n",
    "filter_long_words(wordlist,15)\n",
    "        "
   ]
  },
  {
   "cell_type": "markdown",
   "metadata": {},
   "source": [
    "# 2.1 function mapping list of words to a list of integers representing length of words in the list"
   ]
  },
  {
   "cell_type": "code",
   "execution_count": 3,
   "metadata": {},
   "outputs": [
    {
     "name": "stdout",
     "output_type": "stream",
     "text": [
      "[5, 11, 7, 6, 7]\n"
     ]
    }
   ],
   "source": [
    "wordlist = ['words','mapfunction','lengths','lambda','mapping']\n",
    "\n",
    "len_list = list(map(lambda x : len(x), wordlist))\n",
    "print(len_list)"
   ]
  },
  {
   "cell_type": "markdown",
   "metadata": {},
   "source": [
    "# 2.2 function to determine whether an entered character is a vowel or not"
   ]
  },
  {
   "cell_type": "code",
   "execution_count": 4,
   "metadata": {},
   "outputs": [
    {
     "name": "stdout",
     "output_type": "stream",
     "text": [
      "Input a character \n",
      "r\n",
      "r is not a vowel\n"
     ]
    }
   ],
   "source": [
    "def checkvowel(char):\n",
    "    vowels = ('a','e','i','o','u')\n",
    "    if char in vowels:\n",
    "        print(char + ' is a vowel')\n",
    "    else:\n",
    "        print(char + ' is not a vowel')\n",
    "        \n",
    "print('Input a character ' )\n",
    "char = input()\n",
    "if len(char) != 1 :\n",
    "    print('Pleaase input single character')\n",
    "else:\n",
    "    checkvowel(char)\n",
    "    \n",
    "    "
   ]
  },
  {
   "cell_type": "code",
   "execution_count": null,
   "metadata": {},
   "outputs": [],
   "source": []
  },
  {
   "cell_type": "code",
   "execution_count": null,
   "metadata": {},
   "outputs": [],
   "source": []
  }
 ],
 "metadata": {
  "kernelspec": {
   "display_name": "Python 3",
   "language": "python",
   "name": "python3"
  },
  "language_info": {
   "codemirror_mode": {
    "name": "ipython",
    "version": 3
   },
   "file_extension": ".py",
   "mimetype": "text/x-python",
   "name": "python",
   "nbconvert_exporter": "python",
   "pygments_lexer": "ipython3",
   "version": "3.7.6"
  }
 },
 "nbformat": 4,
 "nbformat_minor": 4
}
