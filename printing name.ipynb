{
 "cells": [
  {
   "cell_type": "code",
   "execution_count": 18,
   "metadata": {},
   "outputs": [
    {
     "name": "stdout",
     "output_type": "stream",
     "text": [
      "enter your first name\n",
      "Madhavi\n",
      "Enter your last name\n",
      "Patel\n",
      "Printing in reverse order\n",
      "ivahdaM letaP\n"
     ]
    }
   ],
   "source": [
    "print(\"enter your first name\" )\n",
    "firstname = input()\n",
    "print(\"Enter your last name\" )\n",
    "lastname = input()\n",
    "print(\"Printing in reverse order\" )\n",
    "print(firstname[-1:-(len(firstname)+1):-1], end = \" \") \n",
    "print(lastname[-1:-(len(lastname)+1):-1])\n"
   ]
  }
 ],
 "metadata": {
  "kernelspec": {
   "display_name": "Python 3",
   "language": "python",
   "name": "python3"
  },
  "language_info": {
   "codemirror_mode": {
    "name": "ipython",
    "version": 3
   },
   "file_extension": ".py",
   "mimetype": "text/x-python",
   "name": "python",
   "nbconvert_exporter": "python",
   "pygments_lexer": "ipython3",
   "version": "3.7.6"
  }
 },
 "nbformat": 4,
 "nbformat_minor": 4
}
