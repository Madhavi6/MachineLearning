{
 "cells": [
  {
   "cell_type": "raw",
   "metadata": {},
   "source": [
    "# Python Program to implement myreduce() function which works exactly like built-in reduce() function"
   ]
  },
  {
   "cell_type": "code",
   "execution_count": null,
   "metadata": {},
   "outputs": [],
   "source": [
    "def myreduce(add,lst):\n",
    "    if (len(lst) == 0):\n",
    "        print('There are no elements in the list')\n",
    "        return\n",
    "    if (len(lst) > 2):\n",
    "        lst[0] = add(lst[0], lst[1])        \n",
    "        for i in range(1,(len(lst)-1)):\n",
    "            lst[i] = lst[i+1]\n",
    "            if (len(lst) == 1):\n",
    "                break\n",
    "        lst.pop()    \n",
    "        myreduce(add,lst)        \n",
    "    elif (len(lst) == 2):\n",
    "        lst[0] = add(lst[0],lst[1])\n",
    "        lst.pop()        \n",
    "    return lst[0]\n",
    "\n",
    "def add(num1, num2):    \n",
    "    return num1 + num2\n",
    "\n",
    "list = [1,2,3,5,6,9]\n",
    "myreduce(add, list) \n",
    "    \n"
   ]
  },
  {
   "cell_type": "raw",
   "metadata": {},
   "source": [
    "# Python Program to implement myfilter() function which works exactly like built-in filter() function"
   ]
  },
  {
   "cell_type": "code",
   "execution_count": 49,
   "metadata": {},
   "outputs": [
    {
     "data": {
      "text/plain": [
       "[1, 3, 89]"
      ]
     },
     "execution_count": 49,
     "metadata": {},
     "output_type": "execute_result"
    }
   ],
   "source": [
    "def myfilter(checkInt, lst):\n",
    "    filteredlst = []\n",
    "    \n",
    "    if (len(lst) == 0):\n",
    "        print('There are no elements in the list')\n",
    "        return\n",
    "    \n",
    "    for i in range(0, len(lst)):\n",
    "        if (checkInt(lst[i])):\n",
    "            filteredlst.append(lst[i])  \n",
    "            \n",
    "    return filteredlst   \n",
    "\n",
    "def checkInt(num):\n",
    "    return isinstance(num, int)\n",
    "\n",
    "list = [1,2.3,3,'a',89,'sret']\n",
    "myfilter(checkInt,list)"
   ]
  },
  {
   "cell_type": "markdown",
   "metadata": {},
   "source": [
    "List Comprehensions"
   ]
  },
  {
   "cell_type": "code",
   "execution_count": 20,
   "metadata": {},
   "outputs": [
    {
     "name": "stdout",
     "output_type": "stream",
     "text": [
      "['x', 'xx', 'xxx', 'xxxx', 'y', 'yy', 'yyy', 'yyyy', 'z', 'zz', 'zzz', 'zzzz']\n",
      "['x', 'y', 'z', 'xx', 'yy', 'zz', 'xxx', 'yyy', 'zzz', 'xxxx', 'yyyy', 'zzzz']\n"
     ]
    }
   ],
   "source": [
    "lst = ['x', 'y', 'z']\n",
    "clist = [a*i for a in lst for i in [1,2,3,4] ]\n",
    "print(clist)\n",
    "clist1 = [a*i for i in [1,2,3,4] for a in lst]\n",
    "print(clist1)"
   ]
  },
  {
   "cell_type": "code",
   "execution_count": 27,
   "metadata": {},
   "outputs": [
    {
     "name": "stdout",
     "output_type": "stream",
     "text": [
      "[[2], [3], [4], [3], [4], [5], [4], [5], [6]]\n",
      "[[2, 3, 4, 5], [3, 4, 5, 6], [4, 5, 6, 7], [5, 6, 7, 8]]\n"
     ]
    }
   ],
   "source": [
    "matrix =[[2,3,4],[3,4,5],[4,5,6]]\n",
    "clist2 = [[matrix[i][j]] for i in [0,1,2] for j in [0,1,2]]\n",
    "print(clist2)\n",
    "matrix1 = [[2,3,4,5],[3,4,5,6],[4,5,6,7],[5,6,7,8]]\n",
    "clist3 = [i for i in matrix1]\n",
    "print(clist3)"
   ]
  },
  {
   "cell_type": "code",
   "execution_count": 45,
   "metadata": {},
   "outputs": [
    {
     "name": "stdout",
     "output_type": "stream",
     "text": [
      "[(1, 1), (2, 1), (3, 1), (1, 2), (2, 2), (3, 2), (1, 3), (2, 3), (3, 3)]\n"
     ]
    }
   ],
   "source": [
    "lst = [(b,a) for a in [1,2,3] for b in [1,2,3] ]\n",
    "print(lst)\n"
   ]
  }
 ],
 "metadata": {
  "kernelspec": {
   "display_name": "Python 3",
   "language": "python",
   "name": "python3"
  },
  "language_info": {
   "codemirror_mode": {
    "name": "ipython",
    "version": 3
   },
   "file_extension": ".py",
   "mimetype": "text/x-python",
   "name": "python",
   "nbconvert_exporter": "python",
   "pygments_lexer": "ipython3",
   "version": "3.7.6"
  }
 },
 "nbformat": 4,
 "nbformat_minor": 4
}
