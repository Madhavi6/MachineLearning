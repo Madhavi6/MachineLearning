{
 "cells": [
  {
   "cell_type": "markdown",
   "metadata": {},
   "source": [
    "1. Creating a pattern using nested for loop"
   ]
  },
  {
   "cell_type": "code",
   "execution_count": 40,
   "metadata": {},
   "outputs": [
    {
     "name": "stdout",
     "output_type": "stream",
     "text": [
      "*\n",
      "**\n",
      "***\n",
      "****\n",
      "*****\n",
      "****\n",
      "***\n",
      "**\n",
      "*\n"
     ]
    }
   ],
   "source": [
    "k = 2\n",
    "for i in range(10):    \n",
    "    for j in range(i):\n",
    "        if (i == j):\n",
    "            print ('*')\n",
    "            break\n",
    "        else:\n",
    "            if (i < 6):\n",
    "                print ('*' * i)\n",
    "            else:\n",
    "                print('*' * (i - k))\n",
    "                k = k + 2\n",
    "            break\n"
   ]
  },
  {
   "cell_type": "markdown",
   "metadata": {},
   "source": [
    "2. Python program to reverse a string after acepting input from user "
   ]
  },
  {
   "cell_type": "code",
   "execution_count": 47,
   "metadata": {},
   "outputs": [
    {
     "name": "stdout",
     "output_type": "stream",
     "text": [
      "Enter a word \n",
      "Python\n",
      "nohtyP\n"
     ]
    }
   ],
   "source": [
    "print ('Enter a word ')\n",
    "str = input()\n",
    "print(str[: :-1])"
   ]
  }
 ],
 "metadata": {
  "kernelspec": {
   "display_name": "Python 3",
   "language": "python",
   "name": "python3"
  },
  "language_info": {
   "codemirror_mode": {
    "name": "ipython",
    "version": 3
   },
   "file_extension": ".py",
   "mimetype": "text/x-python",
   "name": "python",
   "nbconvert_exporter": "python",
   "pygments_lexer": "ipython3",
   "version": "3.7.6"
  }
 },
 "nbformat": 4,
 "nbformat_minor": 4
}
