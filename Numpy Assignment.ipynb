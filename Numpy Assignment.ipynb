{
 "cells": [
  {
   "cell_type": "code",
   "execution_count": 1,
   "id": "bb9ab475",
   "metadata": {},
   "outputs": [],
   "source": [
    "import numpy as np"
   ]
  },
  {
   "cell_type": "code",
   "execution_count": 2,
   "id": "e6548b91",
   "metadata": {},
   "outputs": [
    {
     "name": "stdout",
     "output_type": "stream",
     "text": [
      "Enter length of vector\n",
      "5\n",
      "Enter Vector elements :\n",
      "2\n",
      "3\n",
      "1\n",
      "4\n",
      "5\n"
     ]
    }
   ],
   "source": [
    "print('Enter length of vector')\n",
    "n = input()\n",
    "a = []\n",
    "print('Enter Vector elements :')\n",
    "for i in range(int(n)):    \n",
    "    num = input()\n",
    "    a.append(int(num))\n",
    "x = np.array(a)   "
   ]
  },
  {
   "cell_type": "code",
   "execution_count": 3,
   "id": "74f114cf",
   "metadata": {},
   "outputs": [
    {
     "data": {
      "text/plain": [
       "array([2, 3, 1, 4, 5])"
      ]
     },
     "execution_count": 3,
     "metadata": {},
     "output_type": "execute_result"
    }
   ],
   "source": [
    "x"
   ]
  },
  {
   "cell_type": "code",
   "execution_count": 4,
   "id": "9d512922",
   "metadata": {},
   "outputs": [
    {
     "name": "stdout",
     "output_type": "stream",
     "text": [
      "Enter number of columns to the output vector\n",
      "5\n"
     ]
    }
   ],
   "source": [
    "print('Enter number of columns to the output vector')\n",
    "N = int(input())"
   ]
  },
  {
   "cell_type": "markdown",
   "id": "ecabc84a",
   "metadata": {},
   "source": [
    "# increasing is false"
   ]
  },
  {
   "cell_type": "code",
   "execution_count": 5,
   "id": "cd129751",
   "metadata": {},
   "outputs": [
    {
     "data": {
      "text/plain": [
       "array([[ 16,   8,   4,   2,   1],\n",
       "       [ 81,  27,   9,   3,   1],\n",
       "       [  1,   1,   1,   1,   1],\n",
       "       [256,  64,  16,   4,   1],\n",
       "       [625, 125,  25,   5,   1]])"
      ]
     },
     "execution_count": 5,
     "metadata": {},
     "output_type": "execute_result"
    }
   ],
   "source": [
    "np.vander(x,N)"
   ]
  },
  {
   "cell_type": "markdown",
   "id": "393ae17f",
   "metadata": {},
   "source": [
    "# increasing is True"
   ]
  },
  {
   "cell_type": "code",
   "execution_count": 6,
   "id": "116d9cb2",
   "metadata": {},
   "outputs": [
    {
     "data": {
      "text/plain": [
       "array([[  1,   2,   4,   8,  16],\n",
       "       [  1,   3,   9,  27,  81],\n",
       "       [  1,   1,   1,   1,   1],\n",
       "       [  1,   4,  16,  64, 256],\n",
       "       [  1,   5,  25, 125, 625]])"
      ]
     },
     "execution_count": 6,
     "metadata": {},
     "output_type": "execute_result"
    }
   ],
   "source": [
    "np.vander(x,N,True)"
   ]
  },
  {
   "cell_type": "markdown",
   "id": "bfb16d3d",
   "metadata": {},
   "source": [
    "# Function to find a moving average in an array over a window"
   ]
  },
  {
   "cell_type": "code",
   "execution_count": 30,
   "id": "c0c3ba24",
   "metadata": {},
   "outputs": [],
   "source": [
    "def movingavg(x,size):\n",
    "    avgs = []\n",
    "    for i in range(len(x)-size+1):\n",
    "        sum = 0\n",
    "        for j in range(i,i+size):\n",
    "            sum = sum + x[j]              \n",
    "        avgs.append(sum/size)\n",
    "    \n",
    "    print ('length of moving average sequence array is ' + str(len(avgs)))\n",
    "    print ('Moving average array :')\n",
    "    print (avgs)      \n",
    "    "
   ]
  },
  {
   "cell_type": "code",
   "execution_count": 31,
   "id": "871caa99",
   "metadata": {},
   "outputs": [
    {
     "name": "stdout",
     "output_type": "stream",
     "text": [
      "Enter length of array :\n",
      "13\n",
      "Enter elements of an array\n",
      "3\n",
      "5\n",
      "7\n",
      "2\n",
      "8\n",
      "10\n",
      "11\n",
      "65\n",
      "72\n",
      "81\n",
      "99\n",
      "100\n",
      "150\n",
      "Enter window size\n",
      "3\n",
      "length of moving average sequence array is 11\n",
      "Moving average array :\n",
      "[5.0, 4.666666666666667, 5.666666666666667, 6.666666666666667, 9.666666666666666, 28.666666666666668, 49.333333333333336, 72.66666666666667, 84.0, 93.33333333333333, 116.33333333333333]\n"
     ]
    }
   ],
   "source": [
    "print ('Enter length of array :')\n",
    "length = int(input())\n",
    "print ('Enter elements of an array')\n",
    "x = []\n",
    "for i in range(length):\n",
    "    num1 = int(input())\n",
    "    x.append(num1)\n",
    "print('Enter window size')\n",
    "size = int(input())\n",
    "movingavg(x,size)"
   ]
  },
  {
   "cell_type": "code",
   "execution_count": null,
   "id": "a50577c0",
   "metadata": {},
   "outputs": [],
   "source": []
  },
  {
   "cell_type": "code",
   "execution_count": null,
   "id": "5e976567",
   "metadata": {},
   "outputs": [],
   "source": []
  }
 ],
 "metadata": {
  "kernelspec": {
   "display_name": "Python 3",
   "language": "python",
   "name": "python3"
  },
  "language_info": {
   "codemirror_mode": {
    "name": "ipython",
    "version": 3
   },
   "file_extension": ".py",
   "mimetype": "text/x-python",
   "name": "python",
   "nbconvert_exporter": "python",
   "pygments_lexer": "ipython3",
   "version": "3.7.6"
  }
 },
 "nbformat": 4,
 "nbformat_minor": 5
}
