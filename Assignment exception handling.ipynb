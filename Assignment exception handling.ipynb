{
 "cells": [
  {
   "cell_type": "code",
   "execution_count": 5,
   "id": "3d7f31a1",
   "metadata": {},
   "outputs": [
    {
     "name": "stdout",
     "output_type": "stream",
     "text": [
      "Enter a number: 12\n",
      "In the except block:  division by zero\n",
      "Inside finally block\n"
     ]
    }
   ],
   "source": [
    "def dividebyZero():\n",
    "    a = int(input('Enter a number: '))\n",
    "    try:\n",
    "        result = a/0\n",
    "    except ZeroDivisionError as e:\n",
    "        print('In the except block: ',e)\n",
    "    else:\n",
    "        print('Inside else block')\n",
    "    finally:\n",
    "        print('Inside finally block')\n",
    "        \n",
    "dividebyZero()"
   ]
  },
  {
   "cell_type": "code",
   "execution_count": 7,
   "id": "89ac0a1a",
   "metadata": {},
   "outputs": [
    {
     "name": "stdout",
     "output_type": "stream",
     "text": [
      "Americans play Baseball\n",
      "Americans play Cricket\n",
      "Americans watch Baseball\n",
      "Americans watch Cricket\n",
      "Indians play Baseball\n",
      "Indians play Cricket\n",
      "Indians watch Baseball\n",
      "Indians watch Cricket\n"
     ]
    }
   ],
   "source": [
    "subjects = ['Americans','Indians']\n",
    "verbs = ['play','watch']\n",
    "objects = ['Baseball','Cricket']\n",
    "for i in subjects:\n",
    "    for j in verbs:\n",
    "        for k in objects:\n",
    "            print (i,j,k)\n"
   ]
  },
  {
   "cell_type": "code",
   "execution_count": null,
   "id": "3806f75b",
   "metadata": {},
   "outputs": [],
   "source": []
  }
 ],
 "metadata": {
  "kernelspec": {
   "display_name": "Python 3",
   "language": "python",
   "name": "python3"
  },
  "language_info": {
   "codemirror_mode": {
    "name": "ipython",
    "version": 3
   },
   "file_extension": ".py",
   "mimetype": "text/x-python",
   "name": "python",
   "nbconvert_exporter": "python",
   "pygments_lexer": "ipython3",
   "version": "3.7.6"
  }
 },
 "nbformat": 4,
 "nbformat_minor": 5
}
